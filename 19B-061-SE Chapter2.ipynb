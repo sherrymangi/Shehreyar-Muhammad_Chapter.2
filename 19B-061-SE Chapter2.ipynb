{
 "cells": [
  {
   "cell_type": "markdown",
   "metadata": {},
   "source": [
    "#  Algebraic Expressions and Functions"
   ]
  },
  {
   "cell_type": "code",
   "execution_count": 160,
   "metadata": {},
   "outputs": [
    {
     "data": {
      "text/plain": [
       "10"
      ]
     },
     "execution_count": 160,
     "metadata": {},
     "output_type": "execute_result"
    }
   ],
   "source": [
    "3 +  7"
   ]
  },
  {
   "cell_type": "code",
   "execution_count": 161,
   "metadata": {},
   "outputs": [
    {
     "data": {
      "text/plain": [
       "6"
      ]
     },
     "execution_count": 161,
     "metadata": {},
     "output_type": "execute_result"
    }
   ],
   "source": [
    "3 * 2"
   ]
  },
  {
   "cell_type": "code",
   "execution_count": 162,
   "metadata": {},
   "outputs": [
    {
     "data": {
      "text/plain": [
       "2.5"
      ]
     },
     "execution_count": 162,
     "metadata": {},
     "output_type": "execute_result"
    }
   ],
   "source": [
    "5 / 2"
   ]
  },
  {
   "cell_type": "code",
   "execution_count": 163,
   "metadata": {},
   "outputs": [
    {
     "data": {
      "text/plain": [
       "2.0"
      ]
     },
     "execution_count": 163,
     "metadata": {},
     "output_type": "execute_result"
    }
   ],
   "source": [
    "4 / 2"
   ]
  },
  {
   "cell_type": "code",
   "execution_count": 164,
   "metadata": {},
   "outputs": [
    {
     "data": {
      "text/plain": [
       "7"
      ]
     },
     "execution_count": 164,
     "metadata": {},
     "output_type": "execute_result"
    }
   ],
   "source": [
    "2 * 3 + 1"
   ]
  },
  {
   "cell_type": "code",
   "execution_count": 165,
   "metadata": {},
   "outputs": [
    {
     "data": {
      "text/plain": [
       "12"
      ]
     },
     "execution_count": 165,
     "metadata": {},
     "output_type": "execute_result"
    }
   ],
   "source": [
    "(3 + 1) * 3"
   ]
  },
  {
   "cell_type": "code",
   "execution_count": 166,
   "metadata": {},
   "outputs": [
    {
     "data": {
      "text/plain": [
       "11.440333333333333"
      ]
     },
     "execution_count": 166,
     "metadata": {},
     "output_type": "execute_result"
    }
   ],
   "source": [
    "4.321 / 3 + 10"
   ]
  },
  {
   "cell_type": "code",
   "execution_count": 167,
   "metadata": {},
   "outputs": [
    {
     "data": {
      "text/plain": [
       "0.3323846153846154"
      ]
     },
     "execution_count": 167,
     "metadata": {},
     "output_type": "execute_result"
    }
   ],
   "source": [
    "4.321 / (3 + 10)"
   ]
  },
  {
   "cell_type": "code",
   "execution_count": 168,
   "metadata": {},
   "outputs": [
    {
     "data": {
      "text/plain": [
       "2"
      ]
     },
     "execution_count": 168,
     "metadata": {},
     "output_type": "execute_result"
    }
   ],
   "source": [
    "3 - 2 + 1"
   ]
  },
  {
   "cell_type": "code",
   "execution_count": 169,
   "metadata": {},
   "outputs": [
    {
     "data": {
      "text/plain": [
       "3"
      ]
     },
     "execution_count": 169,
     "metadata": {},
     "output_type": "execute_result"
    }
   ],
   "source": [
    "3"
   ]
  },
  {
   "cell_type": "code",
   "execution_count": 170,
   "metadata": {},
   "outputs": [
    {
     "data": {
      "text/plain": [
       "8"
      ]
     },
     "execution_count": 170,
     "metadata": {},
     "output_type": "execute_result"
    }
   ],
   "source": [
    "2**3"
   ]
  },
  {
   "cell_type": "code",
   "execution_count": 171,
   "metadata": {},
   "outputs": [
    {
     "data": {
      "text/plain": [
       "16"
      ]
     },
     "execution_count": 171,
     "metadata": {},
     "output_type": "execute_result"
    }
   ],
   "source": [
    "2**4"
   ]
  },
  {
   "cell_type": "code",
   "execution_count": 172,
   "metadata": {},
   "outputs": [
    {
     "data": {
      "text/plain": [
       "4"
      ]
     },
     "execution_count": 172,
     "metadata": {},
     "output_type": "execute_result"
    }
   ],
   "source": [
    "14 // 3"
   ]
  },
  {
   "cell_type": "code",
   "execution_count": 173,
   "metadata": {},
   "outputs": [
    {
     "data": {
      "text/plain": [
       "2"
      ]
     },
     "execution_count": 173,
     "metadata": {},
     "output_type": "execute_result"
    }
   ],
   "source": [
    "14 % 3"
   ]
  },
  {
   "cell_type": "code",
   "execution_count": 174,
   "metadata": {},
   "outputs": [
    {
     "data": {
      "text/plain": [
       "4"
      ]
     },
     "execution_count": 174,
     "metadata": {},
     "output_type": "execute_result"
    }
   ],
   "source": [
    "abs(-4)"
   ]
  },
  {
   "cell_type": "code",
   "execution_count": 175,
   "metadata": {},
   "outputs": [
    {
     "data": {
      "text/plain": [
       "4"
      ]
     },
     "execution_count": 175,
     "metadata": {},
     "output_type": "execute_result"
    }
   ],
   "source": [
    "abs(4)"
   ]
  },
  {
   "cell_type": "code",
   "execution_count": 176,
   "metadata": {},
   "outputs": [
    {
     "data": {
      "text/plain": [
       "3.2"
      ]
     },
     "execution_count": 176,
     "metadata": {},
     "output_type": "execute_result"
    }
   ],
   "source": [
    "abs(-3.2)"
   ]
  },
  {
   "cell_type": "code",
   "execution_count": 177,
   "metadata": {},
   "outputs": [
    {
     "data": {
      "text/plain": [
       "-2"
      ]
     },
     "execution_count": 177,
     "metadata": {},
     "output_type": "execute_result"
    }
   ],
   "source": [
    "min(6, -2)"
   ]
  },
  {
   "cell_type": "code",
   "execution_count": 178,
   "metadata": {},
   "outputs": [
    {
     "data": {
      "text/plain": [
       "6"
      ]
     },
     "execution_count": 178,
     "metadata": {},
     "output_type": "execute_result"
    }
   ],
   "source": [
    "max(6, -2)"
   ]
  },
  {
   "cell_type": "code",
   "execution_count": 179,
   "metadata": {},
   "outputs": [
    {
     "data": {
      "text/plain": [
       "-4"
      ]
     },
     "execution_count": 179,
     "metadata": {},
     "output_type": "execute_result"
    }
   ],
   "source": [
    "min(2, -4, 6, -2) "
   ]
  },
  {
   "cell_type": "code",
   "execution_count": 180,
   "metadata": {},
   "outputs": [
    {
     "data": {
      "text/plain": [
       "26.5"
      ]
     },
     "execution_count": 180,
     "metadata": {},
     "output_type": "execute_result"
    }
   ],
   "source": [
    "max(12, 26.5, 3.5) "
   ]
  },
  {
   "cell_type": "markdown",
   "metadata": {},
   "source": [
    "# Practice Problem 2.1"
   ]
  },
  {
   "cell_type": "code",
   "execution_count": 153,
   "metadata": {},
   "outputs": [
    {
     "data": {
      "text/plain": [
       "15"
      ]
     },
     "execution_count": 153,
     "metadata": {},
     "output_type": "execute_result"
    }
   ],
   "source": [
    "# (a) The sum of the ﬁrst ﬁve positive integers\n",
    "\n",
    "a = (1, 2, 3, 4, 5)\n",
    "sum(a)"
   ]
  },
  {
   "cell_type": "code",
   "execution_count": 154,
   "metadata": {},
   "outputs": [
    {
     "name": "stdout",
     "output_type": "stream",
     "text": [
      "24.333333333333332\n"
     ]
    }
   ],
   "source": [
    "# (b) The average age of Sara(age23), Mark(age19), and Fatima(age31) \n",
    "\n",
    "ageOfS =23\n",
    "ageOfM = 19 \n",
    "ageOfF = 31\n",
    "\n",
    "averageAge = (ageOfS + ageOfM + ageOfF)/3\n",
    "print(averageAge)"
   ]
  },
  {
   "cell_type": "code",
   "execution_count": 155,
   "metadata": {},
   "outputs": [
    {
     "data": {
      "text/plain": [
       "5"
      ]
     },
     "execution_count": 155,
     "metadata": {},
     "output_type": "execute_result"
    }
   ],
   "source": [
    "# (c) The number of times 73 goes into 403\n",
    "\n",
    "403 // 73"
   ]
  },
  {
   "cell_type": "code",
   "execution_count": 156,
   "metadata": {},
   "outputs": [
    {
     "data": {
      "text/plain": [
       "38"
      ]
     },
     "execution_count": 156,
     "metadata": {},
     "output_type": "execute_result"
    }
   ],
   "source": [
    "# (d) The remainder when 403 is divided by 73 \n",
    "\n",
    "403 % 73"
   ]
  },
  {
   "cell_type": "code",
   "execution_count": 157,
   "metadata": {},
   "outputs": [
    {
     "data": {
      "text/plain": [
       "1024"
      ]
     },
     "execution_count": 157,
     "metadata": {},
     "output_type": "execute_result"
    }
   ],
   "source": [
    "# (e) 2 to the 10th power\n",
    "\n",
    "2**10"
   ]
  },
  {
   "cell_type": "code",
   "execution_count": 158,
   "metadata": {},
   "outputs": [
    {
     "data": {
      "text/plain": [
       "3"
      ]
     },
     "execution_count": 158,
     "metadata": {},
     "output_type": "execute_result"
    }
   ],
   "source": [
    "# (f) The absolute value of the diﬀerence between Sara’s height (54 inches) and Mark’s height(57inches) \n",
    "\n",
    "heightOfS = 54\n",
    "heightOfM = 57\n",
    "diff = heightOfM - heightOfS\n",
    "abs(diff)"
   ]
  },
  {
   "cell_type": "code",
   "execution_count": 159,
   "metadata": {},
   "outputs": [
    {
     "data": {
      "text/plain": [
       "29.95"
      ]
     },
     "execution_count": 159,
     "metadata": {},
     "output_type": "execute_result"
    }
   ],
   "source": [
    "# (g) The lowest price among the following prices: $34.99, $29.95, and $31.50\n",
    "\n",
    "min(34.99, 29.95, 31.50)"
   ]
  },
  {
   "cell_type": "markdown",
   "metadata": {},
   "source": [
    "# Boolean Expressions and Operators"
   ]
  },
  {
   "cell_type": "code",
   "execution_count": 144,
   "metadata": {},
   "outputs": [
    {
     "data": {
      "text/plain": [
       "True"
      ]
     },
     "execution_count": 144,
     "metadata": {},
     "output_type": "execute_result"
    }
   ],
   "source": [
    "2 < 3"
   ]
  },
  {
   "cell_type": "code",
   "execution_count": 145,
   "metadata": {},
   "outputs": [
    {
     "data": {
      "text/plain": [
       "False"
      ]
     },
     "execution_count": 145,
     "metadata": {},
     "output_type": "execute_result"
    }
   ],
   "source": [
    "3 < 2 "
   ]
  },
  {
   "cell_type": "code",
   "execution_count": 146,
   "metadata": {},
   "outputs": [
    {
     "data": {
      "text/plain": [
       "True"
      ]
     },
     "execution_count": 146,
     "metadata": {},
     "output_type": "execute_result"
    }
   ],
   "source": [
    "5 - 1 > 2 + 1 "
   ]
  },
  {
   "cell_type": "code",
   "execution_count": 147,
   "metadata": {},
   "outputs": [
    {
     "data": {
      "text/plain": [
       "True"
      ]
     },
     "execution_count": 147,
     "metadata": {},
     "output_type": "execute_result"
    }
   ],
   "source": [
    "3 == 3 "
   ]
  },
  {
   "cell_type": "code",
   "execution_count": 148,
   "metadata": {},
   "outputs": [
    {
     "data": {
      "text/plain": [
       "True"
      ]
     },
     "execution_count": 148,
     "metadata": {},
     "output_type": "execute_result"
    }
   ],
   "source": [
    "3 + 5 == 4 + 4 "
   ]
  },
  {
   "cell_type": "code",
   "execution_count": 149,
   "metadata": {},
   "outputs": [
    {
     "data": {
      "text/plain": [
       "False"
      ]
     },
     "execution_count": 149,
     "metadata": {},
     "output_type": "execute_result"
    }
   ],
   "source": [
    "3 == 5 - 3 "
   ]
  },
  {
   "cell_type": "code",
   "execution_count": 150,
   "metadata": {},
   "outputs": [
    {
     "data": {
      "text/plain": [
       "True"
      ]
     },
     "execution_count": 150,
     "metadata": {},
     "output_type": "execute_result"
    }
   ],
   "source": [
    "3 <= 4 "
   ]
  },
  {
   "cell_type": "code",
   "execution_count": 151,
   "metadata": {},
   "outputs": [
    {
     "data": {
      "text/plain": [
       "False"
      ]
     },
     "execution_count": 151,
     "metadata": {},
     "output_type": "execute_result"
    }
   ],
   "source": [
    "3 >= 4 "
   ]
  },
  {
   "cell_type": "code",
   "execution_count": 152,
   "metadata": {},
   "outputs": [
    {
     "data": {
      "text/plain": [
       "True"
      ]
     },
     "execution_count": 152,
     "metadata": {},
     "output_type": "execute_result"
    }
   ],
   "source": [
    "3 != 4 "
   ]
  },
  {
   "cell_type": "markdown",
   "metadata": {},
   "source": [
    "# Practice Problem 2.2"
   ]
  },
  {
   "cell_type": "code",
   "execution_count": 137,
   "metadata": {},
   "outputs": [
    {
     "data": {
      "text/plain": [
       "False"
      ]
     },
     "execution_count": 137,
     "metadata": {},
     "output_type": "execute_result"
    }
   ],
   "source": [
    "# (a) 2 + 2 < 4 which evaluates to False\n",
    "\n",
    "2 + 2 < 4"
   ]
  },
  {
   "cell_type": "code",
   "execution_count": 138,
   "metadata": {},
   "outputs": [
    {
     "data": {
      "text/plain": [
       "True"
      ]
     },
     "execution_count": 138,
     "metadata": {},
     "output_type": "execute_result"
    }
   ],
   "source": [
    "# (b) 7 // 3 == 1 + 1 which evaluates to True\n",
    "\n",
    "7 // 3 == 1 + 1"
   ]
  },
  {
   "cell_type": "code",
   "execution_count": 139,
   "metadata": {},
   "outputs": [
    {
     "data": {
      "text/plain": [
       "True"
      ]
     },
     "execution_count": 139,
     "metadata": {},
     "output_type": "execute_result"
    }
   ],
   "source": [
    "# (c) 3**2 + 4**2 == 25 which evaluates to True\n",
    "\n",
    "3**2 + 4**2 == 25"
   ]
  },
  {
   "cell_type": "code",
   "execution_count": 140,
   "metadata": {},
   "outputs": [
    {
     "data": {
      "text/plain": [
       "False"
      ]
     },
     "execution_count": 140,
     "metadata": {},
     "output_type": "execute_result"
    }
   ],
   "source": [
    "# (d) 2 + 4 + 6 > 12 which evaluates to False\n",
    "\n",
    "2 + 4 + 6 > 12"
   ]
  },
  {
   "cell_type": "code",
   "execution_count": 141,
   "metadata": {},
   "outputs": [
    {
     "data": {
      "text/plain": [
       "True"
      ]
     },
     "execution_count": 141,
     "metadata": {},
     "output_type": "execute_result"
    }
   ],
   "source": [
    "# (e) 1387 % 19 == 0 which evaluates to True\n",
    "\n",
    "1387 % 19 == 0"
   ]
  },
  {
   "cell_type": "code",
   "execution_count": 142,
   "metadata": {},
   "outputs": [
    {
     "data": {
      "text/plain": [
       "False"
      ]
     },
     "execution_count": 142,
     "metadata": {},
     "output_type": "execute_result"
    }
   ],
   "source": [
    "# (f) 31 % 2 == 0 which evaluates to False\n",
    "\n",
    "31 % 2 == 0"
   ]
  },
  {
   "cell_type": "code",
   "execution_count": 143,
   "metadata": {},
   "outputs": [
    {
     "data": {
      "text/plain": [
       "True"
      ]
     },
     "execution_count": 143,
     "metadata": {},
     "output_type": "execute_result"
    }
   ],
   "source": [
    "# (g) min(34.99, 29.95, 31.50) < 30.00 evaluates to True\n",
    "\n",
    "min(34.99, 29.95, 31.50) < 30.00"
   ]
  },
  {
   "cell_type": "markdown",
   "metadata": {},
   "source": [
    "# Practice Problem 2.3"
   ]
  },
  {
   "cell_type": "code",
   "execution_count": 136,
   "metadata": {},
   "outputs": [
    {
     "name": "stdout",
     "output_type": "stream",
     "text": [
      "25\n"
     ]
    }
   ],
   "source": [
    "a = 3\n",
    "b = 4\n",
    "\n",
    "c = (a*a) + (b*b)\n",
    "\n",
    "print(c)"
   ]
  },
  {
   "cell_type": "markdown",
   "metadata": {},
   "source": [
    "# Practice Problem 2.4"
   ]
  },
  {
   "cell_type": "code",
   "execution_count": 135,
   "metadata": {},
   "outputs": [
    {
     "name": "stdout",
     "output_type": "stream",
     "text": [
      "bat ball wicket\n",
      "bat bat bat bat bat bat bat bat bat bat \n",
      "bat ball ball wicket wicket wicket\n",
      "bat ball bat ball bat ball bat ball bat ball bat ball bat ball \n",
      "ballballwicket ballballwicket ballballwicket \n"
     ]
    }
   ],
   "source": [
    "s1 = \"bat\"\n",
    "s2 = \"ball\"\n",
    "s3 = \"wicket\"\n",
    "\n",
    "print(s1 + ' '+ s2 + ' '+ s3 )\n",
    "print(10 * (s1 + ' '))\n",
    "print( s1 + ' ' + 2 * (s2 + ' ') + 2 * (s3 + ' ') + s3 )\n",
    "print( 7 * (s1 + ' '+ s2 + ' '))\n",
    "print( 3 * (2 * s2 + s3 + ' '))"
   ]
  },
  {
   "cell_type": "markdown",
   "metadata": {},
   "source": [
    "# Practice Program 2.5"
   ]
  },
  {
   "cell_type": "code",
   "execution_count": 129,
   "metadata": {},
   "outputs": [
    {
     "data": {
      "text/plain": [
       "'j'"
      ]
     },
     "execution_count": 129,
     "metadata": {},
     "output_type": "execute_result"
    }
   ],
   "source": [
    "s = 'abcdefghijkl'\n",
    "\n",
    "s[1]\n",
    "s[2]\n",
    "s[6]\n",
    "s[8]\n",
    "s[9]"
   ]
  },
  {
   "cell_type": "markdown",
   "metadata": {},
   "source": [
    "# Practice Program 2.6"
   ]
  },
  {
   "cell_type": "code",
   "execution_count": 126,
   "metadata": {},
   "outputs": [
    {
     "data": {
      "text/plain": [
       "'badminton'"
      ]
     },
     "execution_count": 126,
     "metadata": {},
     "output_type": "execute_result"
    }
   ],
   "source": [
    "words = ['bat','ball','basket','badminton','football']\n",
    "\n",
    "max(words)\n",
    "min(words)"
   ]
  },
  {
   "cell_type": "markdown",
   "metadata": {},
   "source": [
    "# Practice Program 2.7"
   ]
  },
  {
   "cell_type": "code",
   "execution_count": 125,
   "metadata": {},
   "outputs": [
    {
     "data": {
      "text/plain": [
       "6.777777777777778"
      ]
     },
     "execution_count": 125,
     "metadata": {},
     "output_type": "execute_result"
    }
   ],
   "source": [
    "grades= [9, 7, 7, 10, 3, 9, 6, 6, 2]\n",
    "grades.count(7) \n",
    "grades[-1] = 4\n",
    "max(grades) \n",
    "grades.sort() \n",
    "sum(grades) / len(grades)"
   ]
  },
  {
   "cell_type": "markdown",
   "metadata": {},
   "source": [
    "# Practice Program 2.8"
   ]
  },
  {
   "cell_type": "code",
   "execution_count": 124,
   "metadata": {},
   "outputs": [
    {
     "ename": "SyntaxError",
     "evalue": "unexpected EOF while parsing (<ipython-input-124-fab9d326a1c5>, line 3)",
     "output_type": "error",
     "traceback": [
      "\u001b[1;36m  File \u001b[1;32m\"<ipython-input-124-fab9d326a1c5>\"\u001b[1;36m, line \u001b[1;32m3\u001b[0m\n\u001b[1;33m    (((lst[1]) *(-3))<(-10)) in [0,true]\u001b[0m\n\u001b[1;37m                                        ^\u001b[0m\n\u001b[1;31mSyntaxError\u001b[0m\u001b[1;31m:\u001b[0m unexpected EOF while parsing\n"
     ]
    }
   ],
   "source": [
    "((2+3) == 4) or (a >= 5)\n",
    "(((lst[1]) * (-3) < (-10)) == 0\n",
    "(((lst[1]) *(-3))<(-10)) in [0,true]\n",
    "(2) * (3**2)\n",
    "(4/2) in [1, 2, 3]"
   ]
  },
  {
   "cell_type": "markdown",
   "metadata": {},
   "source": [
    "# Practice Program 2.9"
   ]
  },
  {
   "cell_type": "code",
   "execution_count": null,
   "metadata": {},
   "outputs": [],
   "source": [
    "#the first value evaluates to bolean \n",
    "#part b is a float value \n",
    "#part c is an Integer value \n",
    "#part d IS an bol value "
   ]
  },
  {
   "cell_type": "markdown",
   "metadata": {},
   "source": [
    "# Practice Program 2.10"
   ]
  },
  {
   "cell_type": "code",
   "execution_count": 119,
   "metadata": {},
   "outputs": [
    {
     "name": "stdout",
     "output_type": "stream",
     "text": [
      "9.219544457292887\n",
      "False\n",
      "113.09733552923255\n"
     ]
    },
    {
     "ename": "TypeError",
     "evalue": "unsupported operand type(s) for -: 'str' and 'int'",
     "output_type": "error",
     "traceback": [
      "\u001b[1;31m---------------------------------------------------------------------------\u001b[0m",
      "\u001b[1;31mTypeError\u001b[0m                                 Traceback (most recent call last)",
      "\u001b[1;32m<ipython-input-119-ec2e32e6bdd1>\u001b[0m in \u001b[0;36m<module>\u001b[1;34m\u001b[0m\n\u001b[0;32m      4\u001b[0m \u001b[0mprint\u001b[0m\u001b[1;33m(\u001b[0m\u001b[0mmath\u001b[0m\u001b[1;33m.\u001b[0m\u001b[0msqrt\u001b[0m\u001b[1;33m(\u001b[0m\u001b[0ma\u001b[0m\u001b[1;33m**\u001b[0m\u001b[1;36m2\u001b[0m \u001b[1;33m+\u001b[0m \u001b[0mb\u001b[0m\u001b[1;33m**\u001b[0m\u001b[1;36m2\u001b[0m\u001b[1;33m)\u001b[0m \u001b[1;33m==\u001b[0m \u001b[1;36m5\u001b[0m\u001b[1;33m)\u001b[0m\u001b[1;33m\u001b[0m\u001b[1;33m\u001b[0m\u001b[0m\n\u001b[0;32m      5\u001b[0m \u001b[0mprint\u001b[0m\u001b[1;33m(\u001b[0m\u001b[0mmath\u001b[0m\u001b[1;33m.\u001b[0m\u001b[0mpi\u001b[0m \u001b[1;33m*\u001b[0m\u001b[0ma\u001b[0m\u001b[1;33m**\u001b[0m\u001b[1;36m2\u001b[0m\u001b[1;33m)\u001b[0m\u001b[1;33m\u001b[0m\u001b[1;33m\u001b[0m\u001b[0m\n\u001b[1;32m----> 6\u001b[1;33m \u001b[0mprint\u001b[0m\u001b[1;33m(\u001b[0m\u001b[0mstr\u001b[0m\u001b[1;33m(\u001b[0m\u001b[1;33m(\u001b[0m\u001b[0mx\u001b[0m \u001b[1;33m-\u001b[0m \u001b[0ma\u001b[0m\u001b[1;33m)\u001b[0m\u001b[1;33m**\u001b[0m\u001b[1;36m2\u001b[0m\u001b[1;33m)\u001b[0m \u001b[1;33m+\u001b[0m \u001b[1;33m(\u001b[0m\u001b[1;33m(\u001b[0m\u001b[0my\u001b[0m \u001b[1;33m-\u001b[0m \u001b[0mb\u001b[0m\u001b[1;33m)\u001b[0m\u001b[1;33m**\u001b[0m\u001b[1;36m2\u001b[0m\u001b[1;33m)\u001b[0m \u001b[1;33m<\u001b[0m \u001b[1;33m(\u001b[0m\u001b[0mr\u001b[0m\u001b[1;33m**\u001b[0m\u001b[1;36m2\u001b[0m\u001b[1;33m)\u001b[0m\u001b[1;33m)\u001b[0m\u001b[1;33m\u001b[0m\u001b[1;33m\u001b[0m\u001b[0m\n\u001b[0m\u001b[0;32m      7\u001b[0m \u001b[1;33m\u001b[0m\u001b[0m\n",
      "\u001b[1;31mTypeError\u001b[0m: unsupported operand type(s) for -: 'str' and 'int'"
     ]
    }
   ],
   "source": [
    "import math \n",
    "\n",
    "print(math.sqrt(a**2 + b**2))\n",
    "print(math.sqrt(a**2 + b**2) == 5)\n",
    "print(math.pi *a**2)\n",
    "print(str((x - a)**2) + ((y - b)**2) < (r**2))\n",
    "\n"
   ]
  },
  {
   "cell_type": "markdown",
   "metadata": {},
   "source": [
    "# Practice Program 2.11"
   ]
  },
  {
   "cell_type": "code",
   "execution_count": 102,
   "metadata": {},
   "outputs": [
    {
     "data": {
      "text/plain": [
       "-28"
      ]
     },
     "execution_count": 102,
     "metadata": {},
     "output_type": "execute_result"
    }
   ],
   "source": [
    "# (a) The sum of negative integers −7 through −1\n",
    "\n",
    "-7-6-5-4-3-2-1"
   ]
  },
  {
   "cell_type": "code",
   "execution_count": 109,
   "metadata": {},
   "outputs": [
    {
     "name": "stdout",
     "output_type": "stream",
     "text": [
      "10.651685393258427\n"
     ]
    }
   ],
   "source": [
    "# (b) The average age of a group of kids at a summer camp given than 17 are 9 years old, 24 are 10 years old, 21 are 11 years old, and 27 are 12 years old \n",
    "\n",
    "averageAge = 9*17 + 24*10 + 21*11 + 27*12\n",
    "average = averageAge/ (17+24+21+27)\n",
    "print(average)"
   ]
  },
  {
   "cell_type": "code",
   "execution_count": 106,
   "metadata": {},
   "outputs": [
    {
     "data": {
      "text/plain": [
       "9.5367431640625e-07"
      ]
     },
     "execution_count": 106,
     "metadata": {},
     "output_type": "execute_result"
    }
   ],
   "source": [
    "# (c) 2 to the power −20\n",
    "\n",
    "2** - 20"
   ]
  },
  {
   "cell_type": "code",
   "execution_count": 107,
   "metadata": {},
   "outputs": [
    {
     "data": {
      "text/plain": [
       "71"
      ]
     },
     "execution_count": 107,
     "metadata": {},
     "output_type": "execute_result"
    }
   ],
   "source": [
    "# (d) The number of times 61 goes into 4356\n",
    "\n",
    "4356 // 61"
   ]
  },
  {
   "cell_type": "code",
   "execution_count": 108,
   "metadata": {},
   "outputs": [
    {
     "data": {
      "text/plain": [
       "34"
      ]
     },
     "execution_count": 108,
     "metadata": {},
     "output_type": "execute_result"
    }
   ],
   "source": [
    "# (e) The remainder when 4365 is divided by 61 \n",
    "\n",
    "4365 % 61"
   ]
  },
  {
   "cell_type": "markdown",
   "metadata": {},
   "source": [
    "# Practice Program 2.12"
   ]
  },
  {
   "cell_type": "code",
   "execution_count": 101,
   "metadata": {},
   "outputs": [
    {
     "name": "stdout",
     "output_type": "stream",
     "text": [
      "-+\n",
      "-+-\n",
      "+--\n",
      "+--+--\n",
      "+--+--+--+--+--\n"
     ]
    }
   ],
   "source": [
    "x = '+'\n",
    "y = '-'\n",
    "\n",
    "print(y+x)\n",
    "print(y+x+y)\n",
    "print(x+y+y)\n",
    "print(x+y+y+x+y+y)\n",
    "print(x+y+y+x+y+y+x+y+y+x+y+y+x+y+y)"
   ]
  },
  {
   "cell_type": "markdown",
   "metadata": {},
   "source": [
    "# Practice Program 2.13"
   ]
  },
  {
   "cell_type": "code",
   "execution_count": 99,
   "metadata": {},
   "outputs": [
    {
     "name": "stdout",
     "output_type": "stream",
     "text": [
      "a\n",
      "c\n",
      "z\n",
      "y\n",
      "q\n"
     ]
    }
   ],
   "source": [
    "s = 'abcdefghijklmnopqrstuvwxyz' \n",
    "    \n",
    "print(s[0])\n",
    "print(s[2])\n",
    "print(s[25])\n",
    "print(s[24])\n",
    "print(s[16])    "
   ]
  },
  {
   "cell_type": "markdown",
   "metadata": {},
   "source": [
    "# Practice Program 2.14"
   ]
  },
  {
   "cell_type": "code",
   "execution_count": 98,
   "metadata": {},
   "outputs": [
    {
     "name": "stdout",
     "output_type": "stream",
     "text": [
      "True\n",
      "False\n",
      "False\n",
      "False\n",
      "True\n",
      "False\n",
      "False\n"
     ]
    }
   ],
   "source": [
    "s = 'goodbye'\n",
    "\n",
    "print(s[0]=='g')\n",
    "print(s[6]=='g')\n",
    "print(s[0]=='g' and s[1]=='a')\n",
    "print(s[5]=='x')\n",
    "print(s[3]=='d')\n",
    "print(s[0]==s[1])\n",
    "print(s[1]+s[2]+s[3]+s[4]=='tion')"
   ]
  },
  {
   "cell_type": "markdown",
   "metadata": {},
   "source": [
    "# Practice Program 2.15"
   ]
  },
  {
   "cell_type": "code",
   "execution_count": 94,
   "metadata": {},
   "outputs": [
    {
     "name": "stdout",
     "output_type": "stream",
     "text": [
      "The number of characters in the word anachronistically is 1 more than the number of characters in the word counterintuitive\n"
     ]
    }
   ],
   "source": [
    "# (a) The number of characters in the word \"anachronistically\" is 1 more than the number of characters in the word \"counterintuitive.\" \n",
    "\n",
    "word1 = \"anachronistically\"\n",
    "word2 = \"counterintuitive\"\n",
    "length1 = len(word1)\n",
    "length2 = len(word2)\n",
    "length = length1-length2\n",
    "print(\"The number of characters in the word \" + word1 + \" is \" + str(length) + \" more than the number of characters in the word \" + word2)"
   ]
  },
  {
   "cell_type": "code",
   "execution_count": 95,
   "metadata": {},
   "outputs": [
    {
     "name": "stdout",
     "output_type": "stream",
     "text": [
      "The sorted list shows that misinterpretation appears earlier than misrepresentation\n",
      "['misinterpretation', 'misrepresentation']\n"
     ]
    }
   ],
   "source": [
    "# (b) The word \"misinterpretation\" appears earlier in the dictionary than the word \"misrepresentation.\"\n",
    "\n",
    "word = ['misinterpretation', 'misrepresentation']\n",
    "word.sort()\n",
    "print(\"The sorted list shows that \" + word[0] + \" appears earlier than \" + word[1])\n",
    "print(word)"
   ]
  },
  {
   "cell_type": "code",
   "execution_count": 96,
   "metadata": {},
   "outputs": [
    {
     "name": "stdout",
     "output_type": "stream",
     "text": [
      "-1 shows that the letter e does not apper in floccinaucinihilipilification\n"
     ]
    }
   ],
   "source": [
    "# (c) The letter \"e\" does not appear in the word \"ﬂoccinaucinihilipiliﬁcation.\" \n",
    "\n",
    "word = 'floccinaucinihilipilification'\n",
    "check = word.find('e')\n",
    "print(str(check) + \" shows that the letter e does not apper in \" + word)"
   ]
  },
  {
   "cell_type": "code",
   "execution_count": 97,
   "metadata": {},
   "outputs": [
    {
     "name": "stdout",
     "output_type": "stream",
     "text": [
      "The number of characters in the word counterrevolution is 17  equal to the sum of the number of characters in words counter and revolution that is 17\n"
     ]
    }
   ],
   "source": [
    "# (d) The number of characters in the word \"counterrevolution\" is equal to the sum of the number of characters in words \"counter\" and \"resolution.\"\n",
    "\n",
    "word1 = 'counterrevolution'\n",
    "word2 = 'counter'\n",
    "word3 = 'revolution'\n",
    "length1 = len(word1)\n",
    "length2 = len(word2)\n",
    "length3 = len(word3)\n",
    "print(\"The number of characters in the word \" + word1 + \" is \" + str(length1) + \"  equal to the sum of the number of characters in words \" + word2 + \" and \" + word3 + \" that is \" + str(length2 + length3))"
   ]
  },
  {
   "cell_type": "markdown",
   "metadata": {},
   "source": [
    "# Practice Program 2.16"
   ]
  },
  {
   "cell_type": "code",
   "execution_count": 93,
   "metadata": {},
   "outputs": [
    {
     "name": "stdout",
     "output_type": "stream",
     "text": [
      "John Fitzgerald Kennedy\n"
     ]
    }
   ],
   "source": [
    "a = 6\n",
    "b = 7\n",
    "c = (a + b)/2\n",
    "\n",
    "inventory = ['paper', 'staples', 'pencils']\n",
    "first = 'John'\n",
    "middle = 'Fitzgerald'\n",
    "last = 'Kennedy'\n",
    "fullname = (first + ' ' + middle + ' ' + last)\n",
    "print(fullname)"
   ]
  },
  {
   "cell_type": "markdown",
   "metadata": {},
   "source": [
    "# Practice Problem 2.17"
   ]
  },
  {
   "cell_type": "code",
   "execution_count": 1,
   "metadata": {},
   "outputs": [
    {
     "name": "stdout",
     "output_type": "stream",
     "text": [
      "True\n"
     ]
    }
   ],
   "source": [
    "# (a) The sum of 17 and −9 is less than 10.\n",
    "\n",
    "a = 17\n",
    "b = -9 \n",
    "c = 10\n",
    "\n",
    "x = (a + b) < c\n",
    "print(x)"
   ]
  },
  {
   "cell_type": "code",
   "execution_count": 9,
   "metadata": {},
   "outputs": [
    {
     "data": {
      "text/plain": [
       "True"
      ]
     },
     "execution_count": 9,
     "metadata": {},
     "output_type": "execute_result"
    }
   ],
   "source": [
    "# (b) The length of list inventory is more than ﬁve times the length of string full name.\n",
    "\n",
    "list = ['books', 'copy', 'pencil', 'eraser', 'pen', 'note', 'gloves', 'glasses','books', 'copy', 'pencil', 'eraser', 'pen', 'note', 'gloves', 'glasses','abcd','a']\n",
    "a = 'str'\n",
    "\n",
    "len(list) > 5*len(a)"
   ]
  },
  {
   "cell_type": "code",
   "execution_count": 11,
   "metadata": {},
   "outputs": [
    {
     "data": {
      "text/plain": [
       "True"
      ]
     },
     "execution_count": 11,
     "metadata": {},
     "output_type": "execute_result"
    }
   ],
   "source": [
    "# (c) c is no more than 24.\n",
    "\n",
    "c = 9\n",
    "c < 24"
   ]
  },
  {
   "cell_type": "code",
   "execution_count": 13,
   "metadata": {},
   "outputs": [
    {
     "data": {
      "text/plain": [
       "True"
      ]
     },
     "execution_count": 13,
     "metadata": {},
     "output_type": "execute_result"
    }
   ],
   "source": [
    "# (d) 6.75 is between the values of integers a and b.\n",
    "\n",
    "a = 6.74\n",
    "b = 6.76\n",
    "c = 6.75\n",
    "\n",
    "a < b and b > c"
   ]
  },
  {
   "cell_type": "code",
   "execution_count": 14,
   "metadata": {},
   "outputs": [
    {
     "data": {
      "text/plain": [
       "True"
      ]
     },
     "execution_count": 14,
     "metadata": {},
     "output_type": "execute_result"
    }
   ],
   "source": [
    "# (e) The length of string middle is larger than the length of string first and smaller than the length string last.\n",
    "\n",
    "first = 'first'\n",
    "middle = 'Larger'\n",
    "last = 'largest'\n",
    "\n",
    "len(middle) > len(first) and len(middle) < len(last)"
   ]
  },
  {
   "cell_type": "code",
   "execution_count": 22,
   "metadata": {},
   "outputs": [
    {
     "name": "stdout",
     "output_type": "stream",
     "text": [
      "list : ['books', 'copy', 'pencil', 'eraser', 'pen', 'note', 'gloves', 'glasses', 'books', 'copy', 'pencil', 'eraser', 'pen', 'note', 'gloves', 'glasses', 'abcd', 'a'] is Empty : False and has More Than 10 Objects : True\n",
      "list : [] is Empty : True and has More Than 10 Objects : False\n"
     ]
    }
   ],
   "source": [
    "# (f) Either the list inventory is empty or it has more than 10 objects in it.\n",
    "\n",
    "# For more than 10\n",
    "\n",
    "inventory = ['books', 'copy', 'pencil', 'eraser', 'pen', 'note', 'gloves', 'glasses','books', 'copy', 'pencil', 'eraser', 'pen', 'note', 'gloves', 'glasses','abcd','a']\n",
    "\n",
    "isEmpty = (len(inventory) == 0)\n",
    "hasMoreThanTenObjects = (len(inventory) > 10)\n",
    "\n",
    "\n",
    "print('list : '+ str(inventory)+' is Empty : '+ str(isEmpty)+' and has More Than 10 Objects : '+ str(hasMoreThanTenObjects))\n",
    "\n",
    "# For empty\n",
    "\n",
    "inventory =[]\n",
    "\n",
    "isEmpty = (len(inventory) == 0)\n",
    "hasMoreThanTenObjects = (len(inventory) > 10)\n",
    "\n",
    "print('list : '+ str(inventory)+' is Empty : '+ str(isEmpty)+' and has More Than 10 Objects : '+ str(hasMoreThanTenObjects))\n",
    "\n"
   ]
  },
  {
   "cell_type": "markdown",
   "metadata": {},
   "source": [
    "# Practice Problem 2.18"
   ]
  },
  {
   "cell_type": "code",
   "execution_count": 23,
   "metadata": {},
   "outputs": [
    {
     "name": "stdout",
     "output_type": "stream",
     "text": [
      "['rose', 'bougainvillea', 'yucca', 'marigold', 'daylilly', 'lilly of the valley']\n"
     ]
    }
   ],
   "source": [
    "# (a) Assign to variable flowers a list containing strings 'rose', 'bougainvillea', 'yucca','marigold','daylilly',and'lilly of the valley'. \n",
    "\n",
    "flowers = ['rose', 'bougainvillea', 'yucca','marigold','daylilly','lilly of the valley']\n",
    "print(flowers)"
   ]
  },
  {
   "cell_type": "code",
   "execution_count": 26,
   "metadata": {},
   "outputs": [
    {
     "name": "stdout",
     "output_type": "stream",
     "text": [
      "List is: ['rose', 'bougainvillea', 'yucca', 'marigold', 'daylilly', 'lilly of the valley'] Is potato in the list? False\n",
      "List is: ['rose', 'bougainvillea', 'yucca', 'marigold', 'daylilly', 'lilly of the valley', 'potato'] Is potato in the list? True\n"
     ]
    }
   ],
   "source": [
    "# (b) Write a Boolean expression that evaluates to True if string 'potato' is in list flowers, and evaluate the expression.\n",
    "\n",
    "# For False\n",
    "\n",
    "flowers = ['rose', 'bougainvillea', 'yucca','marigold','daylilly','lilly of the valley']\n",
    "isPotato = 'potato' in flowers \n",
    "print('List is: ' + str(flowers) + ' Is potato in the list? '+str(isPotato) )\n",
    "\n",
    "# For True\n",
    "\n",
    "flowers = ['rose', 'bougainvillea', 'yucca','marigold','daylilly','lilly of the valley','potato']\n",
    "isPotato = 'potato' in flowers \n",
    "print('List is: ' + str(flowers) + ' Is potato in the list? '+str(isPotato) )"
   ]
  },
  {
   "cell_type": "code",
   "execution_count": 39,
   "metadata": {},
   "outputs": [
    {
     "name": "stdout",
     "output_type": "stream",
     "text": [
      "['rose', 'bougainvillea', 'yucca']\n"
     ]
    }
   ],
   "source": [
    "# (c) Assign to list thorny the sublist consisting of the ﬁrst three objects in list flowers. \n",
    "\n",
    "flowers = ['rose', 'bougainvillea', 'yucca','marigold','daylilly','lilly of the valley']\n",
    "thorny = flowers[0:3]\n",
    "print(thorny)"
   ]
  },
  {
   "cell_type": "code",
   "execution_count": 40,
   "metadata": {},
   "outputs": [
    {
     "name": "stdout",
     "output_type": "stream",
     "text": [
      "['lilly of the valley']\n"
     ]
    }
   ],
   "source": [
    "# (d) Assign to list poisonous the sublist consisting of just the last object of list flowers. \n",
    "\n",
    "flowers = ['rose', 'bougainvillea', 'yucca','marigold','daylilly','lilly of the valley']\n",
    "poisonous = flowers[len(flowers)-1:]\n",
    "print(poisonous)"
   ]
  },
  {
   "cell_type": "markdown",
   "metadata": {},
   "source": [
    "# Practice Problem 2.19"
   ]
  },
  {
   "cell_type": "code",
   "execution_count": 42,
   "metadata": {},
   "outputs": [
    {
     "name": "stdout",
     "output_type": "stream",
     "text": [
      "The number of occurance of Y in list is:  5\n"
     ]
    }
   ],
   "source": [
    "# (a) Assign to variable numYes the number of occurrences of 'Y' in list answers.\n",
    "\n",
    "answers = ['Y', 'N', 'N', 'Y', 'N', 'Y', 'Y', 'Y', 'N', 'N', 'N'] \n",
    "numYes = answers.count('Y')\n",
    "print(\"The number of occurance of Y in list is: \", numYes)"
   ]
  },
  {
   "cell_type": "code",
   "execution_count": 43,
   "metadata": {},
   "outputs": [
    {
     "name": "stdout",
     "output_type": "stream",
     "text": [
      "The number of occurance of N in list is:  6\n"
     ]
    }
   ],
   "source": [
    "# (b) Assign to variable numNo the number of occurrences of 'N' in list answers.\n",
    "\n",
    "answers = ['Y', 'N', 'N', 'Y', 'N', 'Y', 'Y', 'Y', 'N', 'N', 'N'] \n",
    "numNo = answers.count('N')\n",
    "print(\"The number of occurance of N in list is: \", numNo)\n"
   ]
  },
  {
   "cell_type": "code",
   "execution_count": 45,
   "metadata": {},
   "outputs": [
    {
     "name": "stdout",
     "output_type": "stream",
     "text": [
      "45.45454545454545\n"
     ]
    }
   ],
   "source": [
    "# (c) Assign to variable percentYes the percentage of strings in answers that are 'Y'.\n",
    "\n",
    "answers = ['Y', 'N', 'N', 'Y', 'N', 'Y', 'Y', 'Y', 'N', 'N', 'N'] \n",
    "numYes = answers.count('Y')\n",
    "percentYes = (numYes/len(answers))*100\n",
    "print(percentYes)"
   ]
  },
  {
   "cell_type": "code",
   "execution_count": 50,
   "metadata": {},
   "outputs": [
    {
     "name": "stdout",
     "output_type": "stream",
     "text": [
      "['N', 'N', 'N', 'N', 'N', 'N', 'Y', 'Y', 'Y', 'Y', 'Y']\n"
     ]
    }
   ],
   "source": [
    "# (d) Sort the list answers. \n",
    "\n",
    "answers = ['Y', 'N', 'N', 'Y', 'N', 'Y', 'Y', 'Y', 'N', 'N', 'N'] \n",
    "answers.sort()\n",
    "print(answers)"
   ]
  },
  {
   "cell_type": "code",
   "execution_count": 54,
   "metadata": {},
   "outputs": [
    {
     "name": "stdout",
     "output_type": "stream",
     "text": [
      "6\n"
     ]
    }
   ],
   "source": [
    "# (e) Assign to variable f the index of the ﬁrst occurrence of 'Y' in sorted list answers. \n",
    "\n",
    "answers = ['Y', 'N', 'N', 'Y', 'N', 'Y', 'Y', 'Y', 'N', 'N', 'N'] \n",
    "answers.sort()\n",
    "f = answers.index('Y')\n",
    "print(f)"
   ]
  },
  {
   "cell_type": "markdown",
   "metadata": {},
   "source": [
    "# Practice Problem 2.20"
   ]
  },
  {
   "cell_type": "code",
   "execution_count": 64,
   "metadata": {},
   "outputs": [
    {
     "name": "stdout",
     "output_type": "stream",
     "text": [
      "pot\n"
     ]
    }
   ],
   "source": [
    "s = 'top'\n",
    "s= s[2] + s[1] + s[0]\n",
    "print(s)"
   ]
  },
  {
   "cell_type": "markdown",
   "metadata": {},
   "source": [
    "# Practice Problem 2.21"
   ]
  },
  {
   "cell_type": "code",
   "execution_count": 58,
   "metadata": {},
   "outputs": [
    {
     "name": "stdout",
     "output_type": "stream",
     "text": [
      "MA\n"
     ]
    }
   ],
   "source": [
    "s = 'Ahmed'\n",
    "t = 'Muhammad'\n",
    "\n",
    "initials = t[0] + s[0]\n",
    "print(initials)"
   ]
  },
  {
   "cell_type": "markdown",
   "metadata": {},
   "source": [
    "# Practice Problem 2.22"
   ]
  },
  {
   "cell_type": "code",
   "execution_count": null,
   "metadata": {},
   "outputs": [],
   "source": []
  },
  {
   "cell_type": "markdown",
   "metadata": {},
   "source": [
    "# Practice Problem 2.23"
   ]
  },
  {
   "cell_type": "code",
   "execution_count": 65,
   "metadata": {},
   "outputs": [
    {
     "name": "stdout",
     "output_type": "stream",
     "text": [
      "['Jan', 'Feb', 'Mar', 'Apr', 'May']\n"
     ]
    },
    {
     "ename": "AttributeError",
     "evalue": "'tuple' object has no attribute 'insert'",
     "output_type": "error",
     "traceback": [
      "\u001b[1;31m---------------------------------------------------------------------------\u001b[0m",
      "\u001b[1;31mAttributeError\u001b[0m                            Traceback (most recent call last)",
      "\u001b[1;32m<ipython-input-65-e553f6fcbe7b>\u001b[0m in \u001b[0;36m<module>\u001b[1;34m\u001b[0m\n\u001b[0;32m      5\u001b[0m \u001b[0mmonthL\u001b[0m\u001b[1;33m.\u001b[0m\u001b[0minsert\u001b[0m\u001b[1;33m(\u001b[0m\u001b[1;36m3\u001b[0m\u001b[1;33m,\u001b[0m \u001b[1;34m'Apr'\u001b[0m\u001b[1;33m)\u001b[0m\u001b[1;33m\u001b[0m\u001b[1;33m\u001b[0m\u001b[0m\n\u001b[0;32m      6\u001b[0m \u001b[0mprint\u001b[0m\u001b[1;33m(\u001b[0m\u001b[0mmonthL\u001b[0m\u001b[1;33m)\u001b[0m\u001b[1;33m\u001b[0m\u001b[1;33m\u001b[0m\u001b[0m\n\u001b[1;32m----> 7\u001b[1;33m \u001b[0mmonthT\u001b[0m\u001b[1;33m.\u001b[0m\u001b[0minsert\u001b[0m\u001b[1;33m(\u001b[0m\u001b[1;36m3\u001b[0m\u001b[1;33m,\u001b[0m \u001b[1;34m'Apr'\u001b[0m\u001b[1;33m)\u001b[0m\u001b[1;33m\u001b[0m\u001b[1;33m\u001b[0m\u001b[0m\n\u001b[0m\u001b[0;32m      8\u001b[0m \u001b[0mprint\u001b[0m\u001b[1;33m(\u001b[0m\u001b[0mmonthT\u001b[0m\u001b[1;33m)\u001b[0m\u001b[1;33m\u001b[0m\u001b[1;33m\u001b[0m\u001b[0m\n",
      "\u001b[1;31mAttributeError\u001b[0m: 'tuple' object has no attribute 'insert'"
     ]
    }
   ],
   "source": [
    "# (a) Insert string 'Apr' between 'Mar' and 'May'. \n",
    "\n",
    "monthL = ['Jan', 'Feb', 'Mar', 'May']\n",
    "monthT = ('Jan', 'Feb', 'Mar', 'May')\n",
    "monthL.insert(3, 'Apr')\n",
    "print(monthL)\n",
    "monthT.insert(3, 'Apr')\n",
    "print(monthT)"
   ]
  },
  {
   "cell_type": "code",
   "execution_count": 66,
   "metadata": {},
   "outputs": [
    {
     "name": "stdout",
     "output_type": "stream",
     "text": [
      "['Jan', 'Feb', 'Mar', 'May', 'June']\n"
     ]
    },
    {
     "ename": "AttributeError",
     "evalue": "'tuple' object has no attribute 'append'",
     "output_type": "error",
     "traceback": [
      "\u001b[1;31m---------------------------------------------------------------------------\u001b[0m",
      "\u001b[1;31mAttributeError\u001b[0m                            Traceback (most recent call last)",
      "\u001b[1;32m<ipython-input-66-10b6c150869d>\u001b[0m in \u001b[0;36m<module>\u001b[1;34m\u001b[0m\n\u001b[0;32m      5\u001b[0m \u001b[0mmonthL\u001b[0m\u001b[1;33m.\u001b[0m\u001b[0mappend\u001b[0m\u001b[1;33m(\u001b[0m\u001b[1;34m'June'\u001b[0m\u001b[1;33m)\u001b[0m\u001b[1;33m\u001b[0m\u001b[1;33m\u001b[0m\u001b[0m\n\u001b[0;32m      6\u001b[0m \u001b[0mprint\u001b[0m\u001b[1;33m(\u001b[0m\u001b[0mmonthL\u001b[0m\u001b[1;33m)\u001b[0m\u001b[1;33m\u001b[0m\u001b[1;33m\u001b[0m\u001b[0m\n\u001b[1;32m----> 7\u001b[1;33m \u001b[0mmonthT\u001b[0m\u001b[1;33m.\u001b[0m\u001b[0mappend\u001b[0m\u001b[1;33m(\u001b[0m\u001b[1;34m'June'\u001b[0m\u001b[1;33m)\u001b[0m\u001b[1;33m\u001b[0m\u001b[1;33m\u001b[0m\u001b[0m\n\u001b[0m\u001b[0;32m      8\u001b[0m \u001b[0mprint\u001b[0m\u001b[1;33m(\u001b[0m\u001b[0mmonthT\u001b[0m\u001b[1;33m)\u001b[0m\u001b[1;33m\u001b[0m\u001b[1;33m\u001b[0m\u001b[0m\n",
      "\u001b[1;31mAttributeError\u001b[0m: 'tuple' object has no attribute 'append'"
     ]
    }
   ],
   "source": [
    "# (b) Append string 'Jun'.  \n",
    "\n",
    "monthL = ['Jan', 'Feb', 'Mar', 'May']\n",
    "monthT = ('Jan', 'Feb', 'Mar', 'May')\n",
    "monthL.append('June')\n",
    "print(monthL)\n",
    "monthT.append('June')\n",
    "print(monthT)"
   ]
  },
  {
   "cell_type": "code",
   "execution_count": 67,
   "metadata": {},
   "outputs": [
    {
     "name": "stdout",
     "output_type": "stream",
     "text": [
      "['Jan', 'Mar', 'May']\n"
     ]
    },
    {
     "ename": "AttributeError",
     "evalue": "'tuple' object has no attribute 'pop'",
     "output_type": "error",
     "traceback": [
      "\u001b[1;31m---------------------------------------------------------------------------\u001b[0m",
      "\u001b[1;31mAttributeError\u001b[0m                            Traceback (most recent call last)",
      "\u001b[1;32m<ipython-input-67-ad2c4ca3bf18>\u001b[0m in \u001b[0;36m<module>\u001b[1;34m\u001b[0m\n\u001b[0;32m      5\u001b[0m \u001b[0mmonthL\u001b[0m\u001b[1;33m.\u001b[0m\u001b[0mpop\u001b[0m\u001b[1;33m(\u001b[0m\u001b[1;36m1\u001b[0m\u001b[1;33m)\u001b[0m\u001b[1;33m\u001b[0m\u001b[1;33m\u001b[0m\u001b[0m\n\u001b[0;32m      6\u001b[0m \u001b[0mprint\u001b[0m\u001b[1;33m(\u001b[0m\u001b[0mmonthL\u001b[0m\u001b[1;33m)\u001b[0m\u001b[1;33m\u001b[0m\u001b[1;33m\u001b[0m\u001b[0m\n\u001b[1;32m----> 7\u001b[1;33m \u001b[0mmonthT\u001b[0m\u001b[1;33m.\u001b[0m\u001b[0mpop\u001b[0m\u001b[1;33m(\u001b[0m\u001b[1;36m1\u001b[0m\u001b[1;33m)\u001b[0m\u001b[1;33m\u001b[0m\u001b[1;33m\u001b[0m\u001b[0m\n\u001b[0m\u001b[0;32m      8\u001b[0m \u001b[0mprint\u001b[0m\u001b[1;33m(\u001b[0m\u001b[0mmonthT\u001b[0m\u001b[1;33m)\u001b[0m\u001b[1;33m\u001b[0m\u001b[1;33m\u001b[0m\u001b[0m\n",
      "\u001b[1;31mAttributeError\u001b[0m: 'tuple' object has no attribute 'pop'"
     ]
    }
   ],
   "source": [
    "# (c) Pop the container. \n",
    "\n",
    "monthL = ['Jan', 'Feb', 'Mar', 'May']\n",
    "monthT = ('Jan', 'Feb', 'Mar', 'May')\n",
    "monthL.pop()\n",
    "print(monthL)\n",
    "monthT.pop()\n",
    "print(monthT)\n"
   ]
  },
  {
   "cell_type": "code",
   "execution_count": 68,
   "metadata": {},
   "outputs": [
    {
     "name": "stdout",
     "output_type": "stream",
     "text": [
      "['Jan', 'Mar', 'May']\n"
     ]
    },
    {
     "ename": "AttributeError",
     "evalue": "'tuple' object has no attribute 'pop'",
     "output_type": "error",
     "traceback": [
      "\u001b[1;31m---------------------------------------------------------------------------\u001b[0m",
      "\u001b[1;31mAttributeError\u001b[0m                            Traceback (most recent call last)",
      "\u001b[1;32m<ipython-input-68-188c997f74c3>\u001b[0m in \u001b[0;36m<module>\u001b[1;34m\u001b[0m\n\u001b[0;32m      5\u001b[0m \u001b[0mmonthL\u001b[0m\u001b[1;33m.\u001b[0m\u001b[0mpop\u001b[0m\u001b[1;33m(\u001b[0m\u001b[1;36m1\u001b[0m\u001b[1;33m)\u001b[0m\u001b[1;33m\u001b[0m\u001b[1;33m\u001b[0m\u001b[0m\n\u001b[0;32m      6\u001b[0m \u001b[0mprint\u001b[0m\u001b[1;33m(\u001b[0m\u001b[0mmonthL\u001b[0m\u001b[1;33m)\u001b[0m\u001b[1;33m\u001b[0m\u001b[1;33m\u001b[0m\u001b[0m\n\u001b[1;32m----> 7\u001b[1;33m \u001b[0mmonthT\u001b[0m\u001b[1;33m.\u001b[0m\u001b[0mpop\u001b[0m\u001b[1;33m(\u001b[0m\u001b[1;36m1\u001b[0m\u001b[1;33m)\u001b[0m\u001b[1;33m\u001b[0m\u001b[1;33m\u001b[0m\u001b[0m\n\u001b[0m\u001b[0;32m      8\u001b[0m \u001b[0mprint\u001b[0m\u001b[1;33m(\u001b[0m\u001b[0mmonthT\u001b[0m\u001b[1;33m)\u001b[0m\u001b[1;33m\u001b[0m\u001b[1;33m\u001b[0m\u001b[0m\n",
      "\u001b[1;31mAttributeError\u001b[0m: 'tuple' object has no attribute 'pop'"
     ]
    }
   ],
   "source": [
    "# (d) Remove the second item in the container.\n",
    "\n",
    "monthL = ['Jan', 'Feb', 'Mar', 'May']\n",
    "monthT = ('Jan', 'Feb', 'Mar', 'May')\n",
    "monthL.pop(1)\n",
    "print(monthL)\n",
    "monthT.pop(1)\n",
    "print(monthT)"
   ]
  },
  {
   "cell_type": "code",
   "execution_count": 69,
   "metadata": {},
   "outputs": [
    {
     "name": "stdout",
     "output_type": "stream",
     "text": [
      "['May', 'Mar', 'Feb', 'Jan']\n"
     ]
    },
    {
     "ename": "AttributeError",
     "evalue": "'tuple' object has no attribute 'reverse'",
     "output_type": "error",
     "traceback": [
      "\u001b[1;31m---------------------------------------------------------------------------\u001b[0m",
      "\u001b[1;31mAttributeError\u001b[0m                            Traceback (most recent call last)",
      "\u001b[1;32m<ipython-input-69-9523f3064a28>\u001b[0m in \u001b[0;36m<module>\u001b[1;34m\u001b[0m\n\u001b[0;32m      5\u001b[0m \u001b[0mmonthL\u001b[0m\u001b[1;33m.\u001b[0m\u001b[0mreverse\u001b[0m\u001b[1;33m(\u001b[0m\u001b[1;33m)\u001b[0m\u001b[1;33m\u001b[0m\u001b[1;33m\u001b[0m\u001b[0m\n\u001b[0;32m      6\u001b[0m \u001b[0mprint\u001b[0m\u001b[1;33m(\u001b[0m\u001b[0mmonthL\u001b[0m\u001b[1;33m)\u001b[0m\u001b[1;33m\u001b[0m\u001b[1;33m\u001b[0m\u001b[0m\n\u001b[1;32m----> 7\u001b[1;33m \u001b[0mmonthT\u001b[0m\u001b[1;33m.\u001b[0m\u001b[0mreverse\u001b[0m\u001b[1;33m(\u001b[0m\u001b[1;33m)\u001b[0m\u001b[1;33m\u001b[0m\u001b[1;33m\u001b[0m\u001b[0m\n\u001b[0m\u001b[0;32m      8\u001b[0m \u001b[0mprint\u001b[0m\u001b[1;33m(\u001b[0m\u001b[0mmonthT\u001b[0m\u001b[1;33m)\u001b[0m\u001b[1;33m\u001b[0m\u001b[1;33m\u001b[0m\u001b[0m\n",
      "\u001b[1;31mAttributeError\u001b[0m: 'tuple' object has no attribute 'reverse'"
     ]
    }
   ],
   "source": [
    "# (e) Reverse the order of items in the container. \n",
    "\n",
    "monthL = ['Jan', 'Feb', 'Mar', 'May']\n",
    "monthT = ('Jan', 'Feb', 'Mar', 'May')\n",
    "monthL.reverse()\n",
    "print(monthL)\n",
    "monthT.reverse()\n",
    "print(monthT)"
   ]
  },
  {
   "cell_type": "code",
   "execution_count": 70,
   "metadata": {},
   "outputs": [
    {
     "name": "stdout",
     "output_type": "stream",
     "text": [
      "['Feb', 'Jan', 'Mar', 'May']\n"
     ]
    },
    {
     "ename": "AttributeError",
     "evalue": "'tuple' object has no attribute 'sort'",
     "output_type": "error",
     "traceback": [
      "\u001b[1;31m---------------------------------------------------------------------------\u001b[0m",
      "\u001b[1;31mAttributeError\u001b[0m                            Traceback (most recent call last)",
      "\u001b[1;32m<ipython-input-70-318e223b025e>\u001b[0m in \u001b[0;36m<module>\u001b[1;34m\u001b[0m\n\u001b[0;32m      5\u001b[0m \u001b[0mmonthL\u001b[0m\u001b[1;33m.\u001b[0m\u001b[0msort\u001b[0m\u001b[1;33m(\u001b[0m\u001b[1;33m)\u001b[0m\u001b[1;33m\u001b[0m\u001b[1;33m\u001b[0m\u001b[0m\n\u001b[0;32m      6\u001b[0m \u001b[0mprint\u001b[0m\u001b[1;33m(\u001b[0m\u001b[0mmonthL\u001b[0m\u001b[1;33m)\u001b[0m\u001b[1;33m\u001b[0m\u001b[1;33m\u001b[0m\u001b[0m\n\u001b[1;32m----> 7\u001b[1;33m \u001b[0mmonthT\u001b[0m\u001b[1;33m.\u001b[0m\u001b[0msort\u001b[0m\u001b[1;33m(\u001b[0m\u001b[1;33m)\u001b[0m\u001b[1;33m\u001b[0m\u001b[1;33m\u001b[0m\u001b[0m\n\u001b[0m\u001b[0;32m      8\u001b[0m \u001b[0mprint\u001b[0m\u001b[1;33m(\u001b[0m\u001b[0mmonthT\u001b[0m\u001b[1;33m)\u001b[0m\u001b[1;33m\u001b[0m\u001b[1;33m\u001b[0m\u001b[0m\n",
      "\u001b[1;31mAttributeError\u001b[0m: 'tuple' object has no attribute 'sort'"
     ]
    }
   ],
   "source": [
    "# (f) Sort the container. \n",
    "\n",
    "monthL = ['Jan', 'Feb', 'Mar', 'May']\n",
    "monthT = ('Jan', 'Feb', 'Mar', 'May')\n",
    "monthL.sort()\n",
    "print(monthL)\n",
    "monthT.sort()\n",
    "print(monthT)"
   ]
  },
  {
   "cell_type": "markdown",
   "metadata": {},
   "source": [
    "# Practice Problem 2.24"
   ]
  },
  {
   "cell_type": "code",
   "execution_count": 80,
   "metadata": {},
   "outputs": [
    {
     "name": "stdout",
     "output_type": "stream",
     "text": [
      "[4, 4, 2, 2, 1]\n"
     ]
    }
   ],
   "source": [
    "grades = ['B','B','F','C','B','A','A','D','C','D','A','A','B'] \n",
    "count = [grades.count('A'), grades.count('B'), grades.count('C'), grades.count('D'), grades.count('F')]\n",
    "\n",
    "print(count)"
   ]
  },
  {
   "cell_type": "markdown",
   "metadata": {},
   "source": [
    "# Practice Problem 2.25"
   ]
  },
  {
   "cell_type": "code",
   "execution_count": 81,
   "metadata": {},
   "outputs": [
    {
     "name": "stdout",
     "output_type": "stream",
     "text": [
      "[4, 4, 2, 2, 1]\n"
     ]
    }
   ],
   "source": [
    "grades = ('B','B','F','C','B','A','A','D','C','D','A','A','B') \n",
    "count = [grades.count('A'), grades.count('B'), grades.count('C'), grades.count('D'), grades.count('F')]\n",
    "\n",
    "print(count)"
   ]
  },
  {
   "cell_type": "markdown",
   "metadata": {},
   "source": [
    "# Practice Problem 2.26"
   ]
  },
  {
   "cell_type": "code",
   "execution_count": 82,
   "metadata": {},
   "outputs": [
    {
     "name": "stdout",
     "output_type": "stream",
     "text": [
      "Input the value of x: 0\n",
      "Input the value of y: 0\n",
      "Dart hits the dartboard\n",
      "Dart hits at (0.0,0.0)\n",
      "And The expression returns: True\n"
     ]
    }
   ],
   "source": [
    "# (a) (0,0) \n",
    "\n",
    "import math\n",
    "\n",
    "radiusOfDartboard = 10\n",
    "cd_x = 0\n",
    "cd_y = 0\n",
    "\n",
    "x = float(input(\"Input the value of x: \"))\n",
    "y = float(input(\"Input the value of y: \"))\n",
    "\n",
    "r = math.sqrt(((x - cd_x)**2) + ((y - cd_y)**2))\n",
    "\n",
    "if r <= radiusOfDartboard:\n",
    "    print(\"Dart hits the dartboard\")\n",
    "else :\n",
    "    print(\"Dart doesnot hit dartboard\")\n",
    "print(\"Dart hits at (\" + str(x) + \",\" + str(y) + \")\")\n",
    "print(\"And The expression returns: \" + str(r <= radiusOfDartboard))\n"
   ]
  },
  {
   "cell_type": "code",
   "execution_count": 83,
   "metadata": {},
   "outputs": [
    {
     "name": "stdout",
     "output_type": "stream",
     "text": [
      "Input the value of x: 10\n",
      "Input the value of y: 10\n",
      "Dart doesnot hit dartboard\n",
      "Dart hits at (10.0,10.0)\n",
      "And The expression returns: False\n"
     ]
    }
   ],
   "source": [
    "# (b) (10,10) \n",
    "\n",
    "import math\n",
    "\n",
    "radiusOfDartboard = 10\n",
    "cd_x = 0\n",
    "cd_y = 0\n",
    "\n",
    "x = float(input(\"Input the value of x: \"))\n",
    "y = float(input(\"Input the value of y: \"))\n",
    "\n",
    "r = math.sqrt(((x - cd_x)**2) + ((y - cd_y)**2))\n",
    "\n",
    "if r <= radiusOfDartboard:\n",
    "    print(\"Dart hits the dartboard\")\n",
    "else :\n",
    "    print(\"Dart doesnot hit dartboard\")\n",
    "print(\"Dart hits at (\" + str(x) + \",\" + str(y) + \")\")\n",
    "print(\"And The expression returns: \" + str(r <= radiusOfDartboard))"
   ]
  },
  {
   "cell_type": "code",
   "execution_count": 84,
   "metadata": {},
   "outputs": [
    {
     "name": "stdout",
     "output_type": "stream",
     "text": [
      "Input the value of x: 6\n",
      "Input the value of y: -6\n",
      "Dart hits the dartboard\n",
      "Dart hits at (6.0,-6.0)\n",
      "And The expression returns: True\n"
     ]
    }
   ],
   "source": [
    "# (c) (6,−6) \n",
    "\n",
    "import math\n",
    "\n",
    "radiusOfDartboard = 10\n",
    "cd_x = 0\n",
    "cd_y = 0\n",
    "\n",
    "x = float(input(\"Input the value of x: \"))\n",
    "y = float(input(\"Input the value of y: \"))\n",
    "\n",
    "r = math.sqrt(((x - cd_x)**2) + ((y - cd_y)**2))\n",
    "\n",
    "if r <= radiusOfDartboard:\n",
    "    print(\"Dart hits the dartboard\")\n",
    "else :\n",
    "    print(\"Dart doesnot hit dartboard\")\n",
    "print(\"Dart hits at (\" + str(x) + \",\" + str(y) + \")\")\n",
    "print(\"And The expression returns: \" + str(r <= radiusOfDartboard))\n"
   ]
  },
  {
   "cell_type": "code",
   "execution_count": 85,
   "metadata": {},
   "outputs": [
    {
     "name": "stdout",
     "output_type": "stream",
     "text": [
      "Input the value of x: -7\n",
      "Input the value of y: 8\n",
      "Dart doesnot hit dartboard\n",
      "Dart hits at (-7.0,8.0)\n",
      "And The expression returns: False\n"
     ]
    }
   ],
   "source": [
    "# (d) (−7,8) \n",
    "\n",
    "import math\n",
    "\n",
    "radiusOfDartboard = 10\n",
    "cd_x = 0\n",
    "cd_y = 0\n",
    "\n",
    "x = float(input(\"Input the value of x: \"))\n",
    "y = float(input(\"Input the value of y: \"))\n",
    "\n",
    "r = math.sqrt(((x - cd_x)**2) + ((y - cd_y)**2))\n",
    "\n",
    "if r <= radiusOfDartboard:\n",
    "    print(\"Dart hits the dartboard\")\n",
    "else :\n",
    "    print(\"Dart doesnot hit dartboard\")\n",
    "print(\"Dart hits at (\" + str(x) + \",\" + str(y) + \")\")\n",
    "print(\"And The expression returns: \" + str(r <= radiusOfDartboard))\n"
   ]
  },
  {
   "cell_type": "markdown",
   "metadata": {},
   "source": [
    "# Practice Problem 2.27"
   ]
  },
  {
   "cell_type": "code",
   "execution_count": 71,
   "metadata": {},
   "outputs": [
    {
     "name": "stdout",
     "output_type": "stream",
     "text": [
      "Input the length of the ladder: 16\n",
      "Input the angle of the ladder: 75\n",
      "Height is: 15.454813220625093\n"
     ]
    }
   ],
   "source": [
    "# (a) 16 feet and 75 degrees \n",
    "\n",
    "from math import pi\n",
    "from math import sin\n",
    "length = float(input(\"Input the length of the ladder: \"))\n",
    "angleInDegrees = float(input(\"Input the angle of the ladder: \"))\n",
    "angleInRadians = (angleInDegrees * pi)/180\n",
    "height = length * sin(angleInRadians)\n",
    "print(\"Height is: \" + str(height))"
   ]
  },
  {
   "cell_type": "code",
   "execution_count": 73,
   "metadata": {},
   "outputs": [
    {
     "name": "stdout",
     "output_type": "stream",
     "text": [
      "Input the length of the ladder: 20\n",
      "Input the angle of the ladder: 0\n",
      "Height is: 0.0\n"
     ]
    }
   ],
   "source": [
    "# (b) 20 feet and 0 degrees \n",
    "\n",
    "from math import pi\n",
    "from math import sin\n",
    "length = float(input(\"Input the length of the ladder: \"))\n",
    "angleInDegrees = float(input(\"Input the angle of the ladder: \"))\n",
    "angleInRadians = (angleInDegrees * pi)/180\n",
    "height = length * sin(angleInRadians)\n",
    "print(\"Height is: \" + str(height))"
   ]
  },
  {
   "cell_type": "code",
   "execution_count": 74,
   "metadata": {},
   "outputs": [
    {
     "name": "stdout",
     "output_type": "stream",
     "text": [
      "Input the length of the ladder: 24\n",
      "Input the angle of the ladder: 45\n",
      "Height is: 16.97056274847714\n"
     ]
    }
   ],
   "source": [
    "# (c) 24 feet and 45 degrees  \n",
    "\n",
    "from math import pi\n",
    "from math import sin\n",
    "length = float(input(\"Input the length of the ladder: \"))\n",
    "angleInDegrees = float(input(\"Input the angle of the ladder: \"))\n",
    "angleInRadians = (angleInDegrees * pi)/180\n",
    "height = length * sin(angleInRadians)\n",
    "print(\"Height is: \" + str(height))"
   ]
  },
  {
   "cell_type": "code",
   "execution_count": 75,
   "metadata": {},
   "outputs": [
    {
     "name": "stdout",
     "output_type": "stream",
     "text": [
      "Input the length of the ladder: 24\n",
      "Input the angle of the ladder: 80\n",
      "Height is: 23.63538607229299\n"
     ]
    }
   ],
   "source": [
    "# (d) 24 feet and 80 degrees \n",
    "\n",
    "from math import pi\n",
    "from math import sin\n",
    "length = float(input(\"Input the length of the ladder: \"))\n",
    "angleInDegrees = float(input(\"Input the angle of the ladder: \"))\n",
    "angleInRadians = (angleInDegrees * pi)/180\n",
    "height = length * sin(angleInRadians)\n",
    "print(\"Height is: \" + str(height))"
   ]
  },
  {
   "cell_type": "markdown",
   "metadata": {},
   "source": [
    "# Practice Problem 2.28"
   ]
  },
  {
   "cell_type": "code",
   "execution_count": 76,
   "metadata": {},
   "outputs": [
    {
     "name": "stdout",
     "output_type": "stream",
     "text": [
      "The index of mid element of odd list is: 3\n",
      "The index of mid element of even list are: 1 and 2\n"
     ]
    }
   ],
   "source": [
    "# (a) An expression that evaluates to the index of the middle element of lst\n",
    "\n",
    "oddList = [1, 2, 3, 4, 5, 6, 7]\n",
    "length = len(oddList)\n",
    "index = int((length-1)/2)\n",
    "print(\"The index of mid element of odd list is: \" + str(index))\n",
    "evenList = [1, 2, 3, 4]\n",
    "length2 = len(evenList)\n",
    "index1 = int(length2/2)\n",
    "index2 = int(index1 - 1)\n",
    "print(\"The index of mid element of even list are: \" + str(index2) + \" and \" + str(index1))"
   ]
  },
  {
   "cell_type": "code",
   "execution_count": 77,
   "metadata": {},
   "outputs": [
    {
     "name": "stdout",
     "output_type": "stream",
     "text": [
      "The mid element of odd list is: 45\n",
      "The mid element of even list are: 3222 and 2290\n"
     ]
    }
   ],
   "source": [
    "# (b) An expression that evaluates to the middle element of lst\n",
    "\n",
    "oddList = [1, 2, 3, 45, 51, 6, 7]\n",
    "length = len(oddList)\n",
    "index = int((length-1)/2)\n",
    "print(\"The mid element of odd list is: \" + str(oddList[index]))\n",
    "evenList = [289, 2290, 3222, 411]\n",
    "length2 = len(evenList)\n",
    "index1 = int(length2/2)\n",
    "index2 = int(index1 - 1)\n",
    "print(\"The mid element of even list are: \" + str(evenList[index1]) + \" and \" + str(evenList[index2]))\n"
   ]
  },
  {
   "cell_type": "code",
   "execution_count": 78,
   "metadata": {},
   "outputs": [
    {
     "name": "stdout",
     "output_type": "stream",
     "text": [
      "[9, 5, 4, 3, 1]\n"
     ]
    }
   ],
   "source": [
    "# (c) A statement that sorts the list lst in descending order \n",
    "\n",
    "list = [1, 4, 5, 9, 3]\n",
    "list.sort()\n",
    "list.reverse()\n",
    "print(list)"
   ]
  },
  {
   "cell_type": "code",
   "execution_count": 79,
   "metadata": {},
   "outputs": [
    {
     "name": "stdout",
     "output_type": "stream",
     "text": [
      "After removing 1st element list is: \n",
      "[3, 5, 9]\n",
      "After adding element in the list at the end list is: \n",
      "[3, 5, 9, 1]\n"
     ]
    }
   ],
   "source": [
    "# (d) A statement that removes the ﬁrst number of list lst and puts it at the end\n",
    "\n",
    "list = [1, 3, 5, 9]\n",
    "firstElement = list[0]\n",
    "list.pop(0)\n",
    "print(\"After removing 1st element list is: \")\n",
    "print(list)\n",
    "list.append(firstElement)\n",
    "print(\"After adding element in the list at the end list is: \")\n",
    "print(list)\n"
   ]
  },
  {
   "cell_type": "markdown",
   "metadata": {},
   "source": [
    "# Practice Problem 2.29"
   ]
  },
  {
   "cell_type": "code",
   "execution_count": 90,
   "metadata": {},
   "outputs": [
    {
     "name": "stdout",
     "output_type": "stream",
     "text": [
      "True\n",
      "True\n",
      "True\n"
     ]
    }
   ],
   "source": [
    "print(str(0==(1==2))) \n",
    "print(str((2+(3==4)+5==7)))\n",
    "print(str((1<-1)==(3>4)))"
   ]
  },
  {
   "cell_type": "markdown",
   "metadata": {},
   "source": [
    "# Practice problem 2.30"
   ]
  },
  {
   "cell_type": "code",
   "execution_count": null,
   "metadata": {},
   "outputs": [],
   "source": []
  },
  {
   "cell_type": "markdown",
   "metadata": {},
   "source": [
    "# Practice Problem 2.31"
   ]
  },
  {
   "cell_type": "code",
   "execution_count": 92,
   "metadata": {},
   "outputs": [
    {
     "name": "stdout",
     "output_type": "stream",
     "text": [
      "The extend() method adds the specified list elements (or any iterable) to the end of the current list.\n",
      "The copy() method returns a copy of the specified list.\n",
      "The clear() method removes all the elements from a list.\n"
     ]
    }
   ],
   "source": [
    "print(\"The extend() method adds the specified list elements (or any iterable) to the end of the current list.\")\n",
    "print(\"The copy() method returns a copy of the specified list.\")\n",
    "print(\"The clear() method removes all the elements from a list.\")"
   ]
  },
  {
   "cell_type": "code",
   "execution_count": null,
   "metadata": {},
   "outputs": [],
   "source": []
  }
 ],
 "metadata": {
  "kernelspec": {
   "display_name": "Python 3",
   "language": "python",
   "name": "python3"
  },
  "language_info": {
   "codemirror_mode": {
    "name": "ipython",
    "version": 3
   },
   "file_extension": ".py",
   "mimetype": "text/x-python",
   "name": "python",
   "nbconvert_exporter": "python",
   "pygments_lexer": "ipython3",
   "version": "3.7.3"
  }
 },
 "nbformat": 4,
 "nbformat_minor": 2
}
