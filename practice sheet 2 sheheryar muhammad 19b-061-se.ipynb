{
 "cells": [
  {
   "cell_type": "markdown",
   "metadata": {},
   "source": [
    "# practice sheet 2"
   ]
  },
  {
   "cell_type": "code",
   "execution_count": 3,
   "metadata": {},
   "outputs": [
    {
     "name": "stdout",
     "output_type": "stream",
     "text": [
      "The area of triangele is: 3.8971143170299736\n",
      "time taken 4 min\n"
     ]
    }
   ],
   "source": [
    "# Q 1 \n",
    "from math import sqrt\n",
    "def area(a):\n",
    "    frmula = sqrt(3)/4*a**2\n",
    "    return frmula\n",
    "print(\"The area of triangele is:\",area(3))\n",
    "print(\"time taken 4 min\")"
   ]
  },
  {
   "cell_type": "code",
   "execution_count": 21,
   "metadata": {},
   "outputs": [
    {
     "name": "stdout",
     "output_type": "stream",
     "text": [
      "['Tahir']\n"
     ]
    }
   ],
   "source": [
    "# Q 2 \n",
    "def findrelation(Relation):\n",
    "    family = {'mother' : ['Mommy'] , 'father' : ['Tahir'] ,'brother' : ['daniyal'] , 'sister' : ['javeria']  }\n",
    "    if Relation.lower() in family:\n",
    "        print(family.get(Relation.lower()))\n",
    "    else:\n",
    "        print(\"Sorry Relation Does not exist in your family\")\n",
    "findrelation('father')\n"
   ]
  },
  {
   "cell_type": "code",
   "execution_count": 4,
   "metadata": {},
   "outputs": [
    {
     "name": "stdout",
     "output_type": "stream",
     "text": [
      "The area of  triangele is: 10.825317547305483\n",
      "Time taken 4 min\n"
     ]
    }
   ],
   "source": [
    "# Q 3 \n",
    "from math import sqrt\n",
    "def area(a):\n",
    "    frmula = sqrt(3)/4*a**2\n",
    "    return frmula\n",
    "print(\"The area of  triangele is:\",area(5))\n",
    "print(\"Time taken 4 min\")"
   ]
  },
  {
   "cell_type": "code",
   "execution_count": 5,
   "metadata": {},
   "outputs": [],
   "source": [
    "# Q 5"
   ]
  },
  {
   "cell_type": "code",
   "execution_count": 6,
   "metadata": {},
   "outputs": [
    {
     "name": "stdout",
     "output_type": "stream",
     "text": [
      "Area =  113.09733552923255\n",
      "Perimeter =  37.69911184307752\n",
      "time taken is 10 min\n"
     ]
    }
   ],
   "source": [
    "# Q6\n",
    "from math import pi\n",
    "def area_circle(pi, radius): \n",
    "    return (pi * radius**2) \n",
    "  \n",
    "def perimeter_circle(a, pi, radius): \n",
    "    return (2 * pi *  radius) \n",
    "   \n",
    "a = 2; \n",
    "radius = 6; \n",
    "print (\"Area = \", area_circle(pi, radius)) \n",
    "print (\"Perimeter = \", perimeter_circle(a, pi, radius))\n",
    "print(\"time taken is 10 min\")"
   ]
  },
  {
   "cell_type": "code",
   "execution_count": 7,
   "metadata": {},
   "outputs": [
    {
     "name": "stdout",
     "output_type": "stream",
     "text": [
      "Number of vowels are: 10\n",
      "time taken is 10 min\n"
     ]
    }
   ],
   "source": [
    "# Q 7 \n",
    "a = (\"Usman Institute of technology\")\n",
    "vowels=0\n",
    "for i in a:\n",
    "      if(i=='a' or i=='e' or i=='i' or i=='o' or i=='u' or i=='A' or i=='E' or i=='I' or i=='O' or i=='U'):\n",
    "            vowels=vowels+1\n",
    "print(\"Number of vowels are:\", vowels)\n",
    "print(\"time taken is 10 min\")"
   ]
  },
  {
   "cell_type": "code",
   "execution_count": 8,
   "metadata": {},
   "outputs": [
    {
     "name": "stdout",
     "output_type": "stream",
     "text": [
      "Area =  30\n",
      "Perimeter =  1.76\n",
      "time taken is 7 min\n"
     ]
    }
   ],
   "source": [
    "# Q 8 \n",
    "def areaRectangle(a, b): \n",
    "    return (a * b) \n",
    "  \n",
    "def perimeterRectangle(a, b): \n",
    "    return (2 * (a + b)*0.08) \n",
    "   \n",
    "a = 5; \n",
    "b = 6; \n",
    "print (\"Area = \", areaRectangle(a, b)) \n",
    "print (\"Perimeter = \", perimeterRectangle(a, b))\n",
    "print(\"time taken is 7 min\")"
   ]
  },
  {
   "cell_type": "code",
   "execution_count": 9,
   "metadata": {},
   "outputs": [],
   "source": [
    "# Q 9\n"
   ]
  },
  {
   "cell_type": "code",
   "execution_count": 10,
   "metadata": {},
   "outputs": [],
   "source": [
    "# Q10"
   ]
  },
  {
   "cell_type": "code",
   "execution_count": 11,
   "metadata": {},
   "outputs": [],
   "source": [
    "#  Q 11\n"
   ]
  },
  {
   "cell_type": "code",
   "execution_count": 12,
   "metadata": {},
   "outputs": [],
   "source": [
    "# Q12"
   ]
  },
  {
   "cell_type": "code",
   "execution_count": 19,
   "metadata": {},
   "outputs": [
    {
     "name": "stdout",
     "output_type": "stream",
     "text": [
      "The number of lowercase characters is:\n",
      "6\n",
      "The number of uppercase characters is:\n",
      "time taken is 8 min\n"
     ]
    }
   ],
   "source": [
    "# Q13\n",
    "a = (\"USMAn INstituTE\")\n",
    "count1=0\n",
    "count2=0\n",
    "for i in a:\n",
    "      if(i.islower()):\n",
    "            count1=count1+1\n",
    "      elif(i.isupper()):\n",
    "            count2=count2+1\n",
    "print(\"The number of lowercase characters is:\")\n",
    "print(count1)\n",
    "print(\"The number of uppercase characters is:\")\n",
    "print(\"time taken is 8 min\")"
   ]
  },
  {
   "cell_type": "code",
   "execution_count": 14,
   "metadata": {},
   "outputs": [],
   "source": [
    "# Q 14"
   ]
  },
  {
   "cell_type": "code",
   "execution_count": 15,
   "metadata": {},
   "outputs": [],
   "source": [
    "# Q 15"
   ]
  },
  {
   "cell_type": "code",
   "execution_count": 16,
   "metadata": {},
   "outputs": [],
   "source": [
    "# q16"
   ]
  },
  {
   "cell_type": "code",
   "execution_count": 17,
   "metadata": {},
   "outputs": [],
   "source": [
    "# Q 17"
   ]
  },
  {
   "cell_type": "code",
   "execution_count": null,
   "metadata": {},
   "outputs": [],
   "source": [
    "# Q18"
   ]
  }
 ],
 "metadata": {
  "kernelspec": {
   "display_name": "Python 3",
   "language": "python",
   "name": "python3"
  },
  "language_info": {
   "codemirror_mode": {
    "name": "ipython",
    "version": 3
   },
   "file_extension": ".py",
   "mimetype": "text/x-python",
   "name": "python",
   "nbconvert_exporter": "python",
   "pygments_lexer": "ipython3",
   "version": "3.7.3"
  }
 },
 "nbformat": 4,
 "nbformat_minor": 2
}
