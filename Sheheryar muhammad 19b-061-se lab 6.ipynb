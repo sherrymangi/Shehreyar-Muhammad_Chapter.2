{
 "cells": [
  {
   "cell_type": "markdown",
   "metadata": {},
   "source": [
    "# LAB 6 PROGRAMMING EXERCISE\n"
   ]
  },
  {
   "cell_type": "code",
   "execution_count": 1,
   "metadata": {},
   "outputs": [
    {
     "name": "stdout",
     "output_type": "stream",
     "text": [
      " Tuesday, November 26 2019 \n",
      " 02:17 PM Central DayLight Time on Nov/26/2019\n",
      " I will meet you on Tue November 26 at 02:17 PM\n"
     ]
    }
   ],
   "source": [
    "# Program 01\n",
    "\n",
    "import time\n",
    "def dated(x) :\n",
    "    if x == \"A\" or \"a\":\n",
    "        print(a)\n",
    "    elif x == \"B\" or \"b\":\n",
    "        print(b)\n",
    "    elif x == \"C\" or \"c\":\n",
    "        print(c)\n",
    "\n",
    "# Part a\n",
    "a = time.strftime(' %A, %B %d %Y ', time.localtime())\n",
    "print(a)\n",
    "\n",
    "# Part b\n",
    "b = time.strftime(' %I:%M %p Central DayLight Time on %b/%d/%Y', time.localtime())\n",
    "print(b)\n",
    "\n",
    "# Part c\n",
    "c = time.strftime(' I will meet you on %a %B %d at %I:%M %p')\n",
    "print(c)"
   ]
  },
  {
   "cell_type": "code",
   "execution_count": 2,
   "metadata": {},
   "outputs": [
    {
     "name": "stdout",
     "output_type": "stream",
     "text": [
      "The count of day is  2\n"
     ]
    }
   ],
   "source": [
    "# Program 02 (a)\n",
    "\n",
    "forecast = 'It will be a sunny day today '\n",
    "print('The count of day is ', forecast.count('day'))"
   ]
  },
  {
   "cell_type": "code",
   "execution_count": 3,
   "metadata": {},
   "outputs": [
    {
     "name": "stdout",
     "output_type": "stream",
     "text": [
      "The index where sunny start is  13\n"
     ]
    }
   ],
   "source": [
    "# Program 02 (b)\n",
    "\n",
    "forecast = 'It will be a sunny day today '\n",
    "print('The index where sunny start is ', forecast.find('sunny'))"
   ]
  },
  {
   "cell_type": "code",
   "execution_count": 8,
   "metadata": {},
   "outputs": [
    {
     "name": "stdout",
     "output_type": "stream",
     "text": [
      "Forecast is now changed to:  It will be a cloudy day today \n"
     ]
    }
   ],
   "source": [
    "# Program 02 (c)\n",
    "\n",
    "forecast = 'It will be a sunny day today '\n",
    "print('Forecast is now changed to: ', forecast.replace('sunny', 'cloudy'))"
   ]
  },
  {
   "cell_type": "code",
   "execution_count": 9,
   "metadata": {},
   "outputs": [
    {
     "name": "stdout",
     "output_type": "stream",
     "text": [
      "Enter number: 17\n",
      "2\n",
      "3\n",
      "4\n",
      "6\n",
      "8\n",
      "9\n",
      "10\n",
      "12\n",
      "14\n",
      "15\n",
      "16\n"
     ]
    }
   ],
   "source": [
    "# Program 03\n",
    "\n",
    "def even(n):\n",
    "    for i in range(2, n+1):\n",
    "        if i % 2 == 0 or i % 3 == 0:\n",
    "            print(i)\n",
    "        \n",
    "n = int(input(\"Enter number: \"))    \n",
    "even(n)    "
   ]
  },
  {
   "cell_type": "code",
   "execution_count": 15,
   "metadata": {},
   "outputs": [
    {
     "name": "stdout",
     "output_type": "stream",
     "text": [
      "Muhammad\n",
      "Ahmed\n",
      "Gulshan-e-Iqbal\n",
      "03002122222\n",
      "Karachi\n",
      "SINDH\n",
      "30188\n"
     ]
    }
   ],
   "source": [
    "# Program 04\n",
    "\n",
    "def mailaddress(first,last,street,number,city,state,zipCode):\n",
    "    print(first+'\\n'+last+'\\n'+street+'\\n'+number+'\\n'+city+'\\n'+state+'\\n'+zipCode)\n",
    "\n",
    "mailaddress('Muhammad','Ahmed','Gulshan-e-Iqbal','03002122222','Karachi','SINDH','30188' )"
   ]
  },
  {
   "cell_type": "code",
   "execution_count": 16,
   "metadata": {},
   "outputs": [
    {
     "data": {
      "text/plain": [
       "'Jul'"
      ]
     },
     "execution_count": 16,
     "metadata": {},
     "output_type": "execute_result"
    }
   ],
   "source": [
    "# Program 05\n",
    "\n",
    "def month(mon):\n",
    "    months ='JanFebMarAprMayJunJulyAugSepOctNovDec'\n",
    "    return months[(mon*3)-3 : (mon*3)]\n",
    "\n",
    "month(7)"
   ]
  },
  {
   "cell_type": "code",
   "execution_count": 23,
   "metadata": {},
   "outputs": [
    {
     "name": "stdout",
     "output_type": "stream",
     "text": [
      "How do you spell winner?\n",
      "I know, I know!\n",
      " UITIANS !\n",
      "And that's how you spell winner!\n",
      "Go Uitians !\n"
     ]
    }
   ],
   "source": [
    "# Program 06\n",
    "\n",
    "def cheer(teamName):\n",
    "    print('How do you spell winner?\\nI know, I know!\\n',teamName.upper(),\"!\\nAnd that's how you spell winner!\\nGo\", teamName.title(),'!')\n",
    "\n",
    "cheer('uitians')"
   ]
  }
 ],
 "metadata": {
  "kernelspec": {
   "display_name": "Python 3",
   "language": "python",
   "name": "python3"
  },
  "language_info": {
   "codemirror_mode": {
    "name": "ipython",
    "version": 3
   },
   "file_extension": ".py",
   "mimetype": "text/x-python",
   "name": "python",
   "nbconvert_exporter": "python",
   "pygments_lexer": "ipython3",
   "version": "3.7.3"
  }
 },
 "nbformat": 4,
 "nbformat_minor": 2
}
